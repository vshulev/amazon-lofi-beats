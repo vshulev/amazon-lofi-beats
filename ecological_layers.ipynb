{
 "cells": [
  {
   "cell_type": "code",
   "execution_count": null,
   "metadata": {},
   "outputs": [],
   "source": [
    "import pandas as pd\n",
    "import rasterio\n",
    "from rasterio.sample import sample_gen\n",
    "from matplotlib import pyplot"
   ]
  },
  {
   "cell_type": "code",
   "execution_count": null,
   "metadata": {},
   "outputs": [],
   "source": [
    "# Change to path where you store the dataset\n",
    "df = pd.read_csv(\"~/Downloads/BOLD_Public.19-Apr-2024.Amazon_Countries.tsv\", sep=\"\\t\", on_bad_lines=\"skip\")\n",
    "\n",
    "# Change to the respective tif file\n",
    "ecolayer = \"~/Downloads/CHELSA_BIO_Annual_Mean_Temperature.tif\"\n",
    "\n",
    "def parse_coords(df):\n",
    "    coords = []\n",
    "    for coord in df[\"coord\"]:\n",
    "        parts = coord[1:-1].split(\",\")\n",
    "        x, y = float(parts[0]), float(parts[1])\n",
    "\n",
    "        coords.append((y, x))\n",
    "\n",
    "    return coords\n",
    "\n",
    "with rasterio.open(ecolayer) as dataset:\n",
    "    extent = [dataset.bounds[0], dataset.bounds[2], dataset.bounds[1], dataset.bounds[3]]\n",
    "    # This shows the geographical coordinates of the region of interest\n",
    "    print(extent)\n",
    "\n",
    "    # Render the eclogical layer's first channel\n",
    "    array = dataset.read(1)\n",
    "    pyplot.imshow(array, cmap='pink')\n",
    "    pyplot.show()\n",
    "\n",
    "    # From the eDNA dataset only get the samples which are within the region of interest\n",
    "    inbound_coords = []\n",
    "    coords = parse_coords(df)\n",
    "    for x, y in coords:\n",
    "        if x >= extent[0] and x <= extent[1] and y >= extent[2] and y <= extent[3]:\n",
    "            inbound_coords.append((x, y))\n",
    "\n",
    "    print(inbound_coords)\n",
    "    print(len(inbound_coords))\n",
    "\n",
    "    # Get the corresponding ecological values for the samples\n",
    "    results = sample_gen(dataset, inbound_coords)\n",
    "    results = [r for r in results]\n",
    "\n",
    "    print(results)"
   ]
  }
 ],
 "metadata": {
  "kernelspec": {
   "display_name": "Python 3",
   "language": "python",
   "name": "python3"
  },
  "language_info": {
   "name": "python",
   "version": "3.9.6"
  }
 },
 "nbformat": 4,
 "nbformat_minor": 2
}
