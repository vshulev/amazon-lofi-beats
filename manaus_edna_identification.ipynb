{
 "cells": [
  {
   "cell_type": "code",
   "execution_count": 30,
   "metadata": {},
   "outputs": [
    {
     "name": "stderr",
     "output_type": "stream",
     "text": [
      "100%|██████████| 933/933 [00:21<00:00, 43.35it/s]\n"
     ]
    }
   ],
   "source": [
    "import pandas as pd\n",
    "import numpy as np\n",
    "from transformers import PreTrainedTokenizerFast, BertForMaskedLM\n",
    "import torch\n",
    "from tqdm import tqdm\n",
    "import matplotlib.pyplot as plt\n",
    "\n",
    "\n",
    "device = \"mps\"\n",
    "data_path = \"amazon_edna_test_data.tsv\"\n",
    "max_len = 660\n",
    "\n",
    "torch.set_grad_enabled(False)\n",
    "\n",
    "model = BertForMaskedLM.from_pretrained(\"LofiAmazon/BarcodeBERT-Entire-BOLD\")\n",
    "model.to(device)\n",
    "model.eval()\n",
    "\n",
    "tokenizer = PreTrainedTokenizerFast.from_pretrained(\"LofiAmazon/BarcodeBERT-Entire-BOLD\")\n",
    "\n",
    "df = pd.read_csv(data_path, sep=\"\\t\")\n",
    "\n",
    "embeddings = []\n",
    "for nucleotides in tqdm(df[\"nucraw\"]):\n",
    "    # Replace non ACTG characters with N\n",
    "    nucleotides = \"\".join([nuc if nuc in \"ACTG\" else \"N\" for nuc in nucleotides])\n",
    "    # Truncate to max_len\n",
    "    nucleotides = nucleotides[:max_len]\n",
    "    # Add spacing after every 4 characters\n",
    "    nucleotides = \" \".join([nucleotides[i:i+4] for i in range(0, len(nucleotides), 4)])\n",
    "\n",
    "    # Tokenize\n",
    "    inputs = tokenizer(nucleotides, return_tensors=\"pt\")\n",
    "    inputs = {k: v.to(device) for k, v in inputs.items()}\n",
    "    outputs = model(**inputs).hidden_states[-1]\n",
    "    outputs = outputs.mean(1).squeeze().cpu().numpy()\n",
    "\n",
    "    embeddings.append(outputs)\n",
    "\n",
    "df[\"embedding\"] = embeddings"
   ]
  },
  {
   "cell_type": "code",
   "execution_count": 65,
   "metadata": {},
   "outputs": [
    {
     "name": "stderr",
     "output_type": "stream",
     "text": [
      "100%|██████████| 10/10 [00:02<00:00,  4.49it/s]\n",
      "100%|██████████| 10/10 [00:01<00:00,  7.56it/s]\n"
     ]
    }
   ],
   "source": [
    "from pinecone import Pinecone\n",
    "\n",
    "pc = Pinecone(api_key=\"REPLACE WITH YOUR API KEY\")\n",
    "index = pc.Index(\"amazon\")\n",
    "\n",
    "top_k = []\n",
    "for embedding in tqdm(df[\"embedding\"]):\n",
    "    # Look for the nearest neighbor\n",
    "    result = index.query(\n",
    "        namespace=\"all\",\n",
    "        vector=embedding.tolist(),\n",
    "        top_k=100,\n",
    "        include_metadata=True,\n",
    "    )\n",
    "    top_k.append([m[\"metadata\"][\"genus\"] for m in result[\"matches\"]])\n",
    "\n",
    "top_genus = []\n",
    "for embedding in tqdm(df[\"embedding\"]):\n",
    "    # Look for the nearest neighbor\n",
    "    result = index.query(\n",
    "        namespace=\"by_genus\",\n",
    "        vector=embedding.tolist(),\n",
    "        top_k=1,\n",
    "        include_metadata=True,\n",
    "    )\n",
    "    top_genus = result[\"matches\"][0][\"id\"]\n",
    "\n",
    "df[\"top_k\"] = top_k\n",
    "df[\"top_genus\"] = top_genus"
   ]
  },
  {
   "cell_type": "code",
   "execution_count": 63,
   "metadata": {},
   "outputs": [
    {
     "data": {
      "image/png": "[encoded data removed]",
      "text/plain": [
       "<Figure size 640x480 with 1 Axes>"
      ]
     },
     "metadata": {},
     "output_type": "display_data"
    },
    {
     "data": {
      "text/plain": [
       "'Paraba'"
      ]
     },
     "execution_count": 63,
     "metadata": {},
     "output_type": "execute_result"
    }
   ],
   "source": [
    "idx = 7\n",
    "\n",
    "# Grab the top_k cell of the first row\n",
    "top_k = df[\"top_k\"].iloc[idx]\n",
    "# Count the number of times each genus appears\n",
    "top_k = pd.Series(top_k).value_counts()\n",
    "# Plot\n",
    "top_k.plot(kind=\"bar\")\n",
    "\n",
    "plt.show()\n",
    "\n",
    "df[\"top_genus\"].iloc[idx]"
   ]
  }
 ],
 "metadata": {
  "kernelspec": {
   "display_name": ".venv",
   "language": "python",
   "name": "python3"
  },
  "language_info": {
   "codemirror_mode": {
    "name": "ipython",
    "version": 3
   },
   "file_extension": ".py",
   "mimetype": "text/x-python",
   "name": "python",
   "nbconvert_exporter": "python",
   "pygments_lexer": "ipython3",
   "version": "3.9.6"
  }
 },
 "nbformat": 4,
 "nbformat_minor": 2
}
