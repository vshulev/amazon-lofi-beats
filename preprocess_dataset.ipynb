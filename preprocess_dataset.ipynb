{
 "cells": [
  {
   "cell_type": "code",
   "execution_count": null,
   "metadata": {},
   "outputs": [],
   "source": [
    "import pandas as pd\n",
    "\n",
    "path_to_bold = \"~/Downloads/BOLD_Public.19-Apr-2024.tsv\"\n",
    "\n",
    "df = pd.read_csv(path_to_bold, sep=\"\\t\", on_bad_lines=\"skip\")\n",
    "\n",
    "# Preprocess dataset\n",
    "df_preprocessed = df[df[\"nucraw\"].notna()]\n",
    "# Replace all symbols in nucraw which are not A, C, G, T with N\n",
    "df_preprocessed[\"nucraw\"] = df_preprocessed[\"nucraw\"].str.replace(\"[^ACGT]\", \"N\", regex=True)\n",
    "# Remove all duplicate nucraw sequences\n",
    "df_preprocessed = df_preprocessed.drop_duplicates(subset=\"nucraw\")\n",
    "# Truncate trailing Ns from nucraw\n",
    "df_preprocessed[\"nucraw\"] = df_preprocessed[\"nucraw\"].str.replace(\"N+$\", \"\", regex=True)\n",
    "# Remove sequences with less than 200bp\n",
    "df_preprocessed = df_preprocessed[df_preprocessed[\"nucraw\"].str.len() >= 200]\n",
    "# Remove sequences with >50% Ns\n",
    "df_preprocessed = df_preprocessed[df_preprocessed[\"nucraw\"].str.count(\"N\") / df_preprocessed[\"nucraw\"].str.len() <= 0.5]\n",
    "\n",
    "# Create splits\n",
    "training_df = df_preprocessed\n",
    "# Create unseen dataset\n",
    "unseen_df = df_preprocessed[df_preprocessed[\"species\"].notna()]\n",
    "species_counts = unseen_df[\"species\"].value_counts()\n",
    "unseen_df = unseen_df[unseen_df[\"species\"].isin(species_counts[species_counts < 20].index)]\n",
    "unseen_df = unseen_df.sample(frac=0.01)\n",
    "training_df = training_df.drop(unseen_df.index)\n",
    "# Create fine-tuning dataset for genus classification\n",
    "# Grab all entries from df_preprocessed which are not in unseen_df\n",
    "finetuning_df = training_df[training_df[\"genus\"].notna()]\n",
    "finetuning_df = finetuning_df.sample(frac=0.05)\n",
    "training_df = training_df.drop(finetuning_df.index)\n",
    "# From training_df remove all rows where species are in unseen_df\n",
    "training_df = training_df[~training_df[\"species\"].isin(unseen_df[\"species\"])]\n",
    "\n",
    "# Save the datasets\n",
    "training_df.to_csv(\"~/Downloads/BOLD_pretrain.tsv\", index=False, sep=\"\\t\")\n",
    "finetuning_df.to_csv(\"~/Downloads/BOLD_finetune.tsv\", index=False, sep=\"\\t\")\n",
    "unseen_df.to_csv(\"~/Downloads/BOLD_unseen.tsv\", index=False, sep=\"\\t\")\n"
   ]
  }
 ],
 "metadata": {
  "kernelspec": {
   "display_name": "Python 3",
   "language": "python",
   "name": "python3"
  },
  "language_info": {
   "name": "python",
   "version": "3.9.6"
  }
 },
 "nbformat": 4,
 "nbformat_minor": 2
}
